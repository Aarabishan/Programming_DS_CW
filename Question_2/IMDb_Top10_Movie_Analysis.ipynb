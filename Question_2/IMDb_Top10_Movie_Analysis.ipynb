{
 "cells": [
  {
   "cell_type": "markdown",
   "id": "84388ea2-df2c-4312-aec3-51c649eb4fdd",
   "metadata": {},
   "source": [
    "# 01. Data Loading and preprocessing"
   ]
  },
  {
   "cell_type": "code",
   "execution_count": 23,
   "id": "be0ae95b-5da0-4fb5-a327-b7c1026eb85f",
   "metadata": {},
   "outputs": [],
   "source": [
    "#import neccessary libraries\n",
    "import pandas as pd\n",
    "import numpy as np"
   ]
  },
  {
   "cell_type": "code",
   "execution_count": 25,
   "id": "6a3ac325-9a01-4253-be63-9bc9dfae438e",
   "metadata": {},
   "outputs": [
    {
     "data": {
      "text/html": [
       "<div>\n",
       "<style scoped>\n",
       "    .dataframe tbody tr th:only-of-type {\n",
       "        vertical-align: middle;\n",
       "    }\n",
       "\n",
       "    .dataframe tbody tr th {\n",
       "        vertical-align: top;\n",
       "    }\n",
       "\n",
       "    .dataframe thead th {\n",
       "        text-align: right;\n",
       "    }\n",
       "</style>\n",
       "<table border=\"1\" class=\"dataframe\">\n",
       "  <thead>\n",
       "    <tr style=\"text-align: right;\">\n",
       "      <th></th>\n",
       "      <th>Title</th>\n",
       "      <th>Year</th>\n",
       "      <th>Rating</th>\n",
       "      <th>Genre</th>\n",
       "      <th>Director(s)</th>\n",
       "      <th>Box Office Revenue</th>\n",
       "      <th>Lead Actors</th>\n",
       "    </tr>\n",
       "  </thead>\n",
       "  <tbody>\n",
       "    <tr>\n",
       "      <th>0</th>\n",
       "      <td>1. The Shawshank Redemption</td>\n",
       "      <td>1994</td>\n",
       "      <td>9.3 (3M)</td>\n",
       "      <td>Epic, Period Drama, Prison Drama, Drama</td>\n",
       "      <td>The Ink Spots, Jack Lawrence, Stephen King, Ti...</td>\n",
       "      <td>Gross worldwide$29,332,133</td>\n",
       "      <td>Bob Gunton, Morgan Freeman, Tim Robbins</td>\n",
       "    </tr>\n",
       "    <tr>\n",
       "      <th>1</th>\n",
       "      <td>2. The Godfather</td>\n",
       "      <td>1972</td>\n",
       "      <td>9.2 (2.1M)</td>\n",
       "      <td>Epic, Gangster, Tragedy, Crime, Drama</td>\n",
       "      <td>Mario Puzo, Marlon Brando, Peter Clemenza, Al ...</td>\n",
       "      <td>Gross worldwide$250,342,198</td>\n",
       "      <td>Al Pacino, Marlon Brando, James Caan</td>\n",
       "    </tr>\n",
       "    <tr>\n",
       "      <th>2</th>\n",
       "      <td>3. The Dark Knight</td>\n",
       "      <td>2008</td>\n",
       "      <td>9.0 (3M)</td>\n",
       "      <td>Action Epic, Epic, Superhero, Tragedy, Action,...</td>\n",
       "      <td>Aaron Eckhart, Michael Caine, The Joker, Jonat...</td>\n",
       "      <td>Gross worldwide$1,009,057,329</td>\n",
       "      <td>Aaron Eckhart, Christian Bale, Heath Ledger</td>\n",
       "    </tr>\n",
       "    <tr>\n",
       "      <th>3</th>\n",
       "      <td>4. The Godfather Part II</td>\n",
       "      <td>1974</td>\n",
       "      <td>9.0 (1.4M)</td>\n",
       "      <td>Epic, Gangster, Tragedy, Crime, Drama</td>\n",
       "      <td>Mario Puzo, Francesco Pennino, Al Pacino, Robe...</td>\n",
       "      <td>Gross worldwide$47,964,222</td>\n",
       "      <td>Al Pacino, Robert De Niro, Robert Duvall</td>\n",
       "    </tr>\n",
       "    <tr>\n",
       "      <th>4</th>\n",
       "      <td>5. 12 Angry Men</td>\n",
       "      <td>1957</td>\n",
       "      <td>9.0 (917K)</td>\n",
       "      <td>Legal Drama, Psychological Drama, Crime, Drama</td>\n",
       "      <td>Henry Fonda, Jack Warden, Lee J. Cobb, Juror #...</td>\n",
       "      <td>Gross worldwide$2,945</td>\n",
       "      <td>Henry Fonda, Martin Balsam, Lee J. Cobb</td>\n",
       "    </tr>\n",
       "  </tbody>\n",
       "</table>\n",
       "</div>"
      ],
      "text/plain": [
       "                         Title  Year      Rating  \\\n",
       "0  1. The Shawshank Redemption  1994    9.3 (3M)   \n",
       "1             2. The Godfather  1972  9.2 (2.1M)   \n",
       "2           3. The Dark Knight  2008    9.0 (3M)   \n",
       "3     4. The Godfather Part II  1974  9.0 (1.4M)   \n",
       "4              5. 12 Angry Men  1957  9.0 (917K)   \n",
       "\n",
       "                                               Genre  \\\n",
       "0            Epic, Period Drama, Prison Drama, Drama   \n",
       "1              Epic, Gangster, Tragedy, Crime, Drama   \n",
       "2  Action Epic, Epic, Superhero, Tragedy, Action,...   \n",
       "3              Epic, Gangster, Tragedy, Crime, Drama   \n",
       "4     Legal Drama, Psychological Drama, Crime, Drama   \n",
       "\n",
       "                                         Director(s)  \\\n",
       "0  The Ink Spots, Jack Lawrence, Stephen King, Ti...   \n",
       "1  Mario Puzo, Marlon Brando, Peter Clemenza, Al ...   \n",
       "2  Aaron Eckhart, Michael Caine, The Joker, Jonat...   \n",
       "3  Mario Puzo, Francesco Pennino, Al Pacino, Robe...   \n",
       "4  Henry Fonda, Jack Warden, Lee J. Cobb, Juror #...   \n",
       "\n",
       "              Box Office Revenue                                  Lead Actors  \n",
       "0     Gross worldwide$29,332,133      Bob Gunton, Morgan Freeman, Tim Robbins  \n",
       "1    Gross worldwide$250,342,198         Al Pacino, Marlon Brando, James Caan  \n",
       "2  Gross worldwide$1,009,057,329  Aaron Eckhart, Christian Bale, Heath Ledger  \n",
       "3     Gross worldwide$47,964,222     Al Pacino, Robert De Niro, Robert Duvall  \n",
       "4          Gross worldwide$2,945      Henry Fonda, Martin Balsam, Lee J. Cobb  "
      ]
     },
     "execution_count": 25,
     "metadata": {},
     "output_type": "execute_result"
    }
   ],
   "source": [
    "#Load the dataset\n",
    "df = pd.read_csv(\"IMDb_Top10_Movies.csv\")\n",
    "df.head()"
   ]
  },
  {
   "cell_type": "code",
   "execution_count": 27,
   "id": "72303197-23b2-4736-9f74-d6ff0c1bb18c",
   "metadata": {},
   "outputs": [
    {
     "data": {
      "text/plain": [
       "(250, 7)"
      ]
     },
     "execution_count": 27,
     "metadata": {},
     "output_type": "execute_result"
    }
   ],
   "source": [
    "#Check no.of rows and colunms\n",
    "df.shape"
   ]
  },
  {
   "cell_type": "code",
   "execution_count": 29,
   "id": "e18945d9-ef74-4041-91c2-5b85e0f139fe",
   "metadata": {},
   "outputs": [
    {
     "data": {
      "text/plain": [
       "Title                 object\n",
       "Year                   int32\n",
       "Rating                object\n",
       "Genre                 object\n",
       "Director(s)           object\n",
       "Box Office Revenue    object\n",
       "Lead Actors           object\n",
       "dtype: object"
      ]
     },
     "execution_count": 29,
     "metadata": {},
     "output_type": "execute_result"
    }
   ],
   "source": [
    "#Check the data types\n",
    "df_IMDb.dtypes"
   ]
  },
  {
   "cell_type": "raw",
   "id": "245bf639-d4f1-4162-a167-defb13ab41a4",
   "metadata": {},
   "source": [
    "•\tFiltering the Data set with the Movie list for past two decades ( 2004 to 2024).\n",
    "\n",
    "Since we were asked to analyze data from the past two decades, filtered the dataset for the past two decades. To ensure the data quality, data cleaning was done by checking and removing the missing values and duplicated rows. \n",
    "\n",
    "It is ensured that the type year is numeric and converted to integer. If the year is stored as string (object), when comparing the years, it will compare alphabetically instead of numerically. Also, the invalid and unexpected values in the Year column were replaced by NaN and then removed. This ensures the correct filtering of movies between 2004 to 2024. The filtered dataset is stored as \"df_IMDb\" ."
   ]
  },
  {
   "cell_type": "code",
   "execution_count": 31,
   "id": "1b0db5f8-9e39-4342-b072-2028235d62e8",
   "metadata": {},
   "outputs": [],
   "source": [
    "#Filtering the Data set with the Movie list for past two decades (2004 to 2024)\n",
    "\n",
    "# Ensure Year is numeric and Converts non-numeric values to NaN\n",
    "df[\"Year\"] = pd.to_numeric(df[\"Year\"], errors=\"coerce\")  \n",
    "\n",
    "# Drop rows where Year is NaN \n",
    "df = df.dropna(subset=[\"Year\"])\n",
    "\n",
    "# Convert 'Year' to integer for proper comparison\n",
    "df[\"Year\"] = df[\"Year\"].astype(int)\n",
    "\n",
    "# Define the year range (2004 to 2024)\n",
    "df_IMDb = df[(df[\"Year\"] >= 2004) & (df[\"Year\"] <= 2024)]\n",
    " "
   ]
  },
  {
   "cell_type": "code",
   "execution_count": 33,
   "id": "1fe7c3e1-e0db-49da-a3f5-8258a88b2e0b",
   "metadata": {},
   "outputs": [
    {
     "data": {
      "text/plain": [
       "(86, 7)"
      ]
     },
     "execution_count": 33,
     "metadata": {},
     "output_type": "execute_result"
    }
   ],
   "source": [
    "#Check no.of rows and colunms of dataset after filtering\n",
    "df_IMDb.shape"
   ]
  },
  {
   "cell_type": "markdown",
   "id": "aaf1dd13-7241-4ecd-b053-5c14fc2f096a",
   "metadata": {},
   "source": [
    "•\tClean the Rating column \n",
    "\n",
    "To extract only the numeric value of ratings such as 9.0 from the values in the format of 9.0(3M) used regular expression by removing everything after the decimal number including parentheses. Then converted the cleaned rating column to numeric, replaced the non-numeric values with NaN and dropped them since they were invalid."
   ]
  },
  {
   "cell_type": "code",
   "execution_count": 60,
   "id": "3be654e1-3022-4a1e-b9ff-5300596904bb",
   "metadata": {},
   "outputs": [
    {
     "name": "stdout",
     "output_type": "stream",
     "text": [
      "              Title  Rating\n",
      "2   The Dark Knight     9.0\n",
      "13        Inception     8.8\n",
      "18     Interstellar     8.7\n",
      "33         Parasite     8.5\n",
      "37     The Departed     8.5\n"
     ]
    },
    {
     "name": "stderr",
     "output_type": "stream",
     "text": [
      "C:\\Users\\User\\AppData\\Local\\Temp\\ipykernel_21768\\4226622359.py:4: SettingWithCopyWarning: \n",
      "A value is trying to be set on a copy of a slice from a DataFrame.\n",
      "Try using .loc[row_indexer,col_indexer] = value instead\n",
      "\n",
      "See the caveats in the documentation: https://pandas.pydata.org/pandas-docs/stable/user_guide/indexing.html#returning-a-view-versus-a-copy\n",
      "  df_IMDb['Rating'] = df_IMDb['Rating'].apply(lambda x: re.sub(r'\\s?\\(.*\\)', '', str(x)))\n",
      "C:\\Users\\User\\AppData\\Local\\Temp\\ipykernel_21768\\4226622359.py:7: SettingWithCopyWarning: \n",
      "A value is trying to be set on a copy of a slice from a DataFrame.\n",
      "Try using .loc[row_indexer,col_indexer] = value instead\n",
      "\n",
      "See the caveats in the documentation: https://pandas.pydata.org/pandas-docs/stable/user_guide/indexing.html#returning-a-view-versus-a-copy\n",
      "  df_IMDb['Rating'] = pd.to_numeric(df_IMDb['Rating'], errors='coerce')\n"
     ]
    }
   ],
   "source": [
    "# Clean the Rating column to extract only the numeric value before parentheses using \n",
    "import re\n",
    "\n",
    "df_IMDb['Rating'] = df_IMDb['Rating'].apply(lambda x: re.sub(r'\\s?\\(.*\\)', '', str(x)))\n",
    "\n",
    "# Convert to numeric, replacing non-numeric values to NaN\n",
    "df_IMDb['Rating'] = pd.to_numeric(df_IMDb['Rating'], errors='coerce')\n",
    "\n",
    "# Drop rows where Rating is NaN \n",
    "df_IMDb = df_IMDb.dropna(subset=['Rating'])\n",
    "\n",
    "# Check the cleaned data\n",
    "print(df_IMDb[['Title', 'Rating']].head())\n"
   ]
  },
  {
   "cell_type": "raw",
   "id": "7d4d744c-2edb-4b8f-b439-166333597d0e",
   "metadata": {},
   "source": [
    "•\tCleaning the Box Office Revenue\n",
    "\n",
    "To extract the numeric values of the revenue such as “758464713” from the values given as Gross worldwide$758,464,713, used regular expression by removing the “Gross worldwide$” and removed the commas to make sure the values are pure numbers. Then converted the cleaned revenue column to numeric, replaced the non-numeric values with NaN and dropped them since they were invalid."
   ]
  },
  {
   "cell_type": "code",
   "execution_count": 62,
   "id": "c7760f7f-2576-4682-83b3-d80c53a518ea",
   "metadata": {},
   "outputs": [
    {
     "name": "stdout",
     "output_type": "stream",
     "text": [
      "              Title  Box Office Revenue\n",
      "2   The Dark Knight        1.009057e+09\n",
      "13        Inception        8.390306e+08\n",
      "18     Interstellar        7.584647e+08\n",
      "33         Parasite        2.626081e+08\n",
      "37     The Departed        2.914814e+08\n"
     ]
    }
   ],
   "source": [
    "import re\n",
    "\n",
    "# Clean Box Office Revenue column to extract only the numeric value\n",
    "df_IMDb['Box Office Revenue'] = df_IMDb['Box Office Revenue'].apply(\n",
    "    lambda x: re.sub(r'Gross worldwide\\$', '', str(x)).strip()\n",
    ")\n",
    "\n",
    "# Remove commas from inbetween the revenue values\n",
    "df_IMDb['Box Office Revenue'] = df_IMDb['Box Office Revenue'].str.replace(',', '')\n",
    "\n",
    "# Convert to numeric, replacing non-numeric values to NaN\n",
    "df_IMDb['Box Office Revenue'] = pd.to_numeric(df_IMDb['Box Office Revenue'], errors='coerce')\n",
    "\n",
    "# Drop rows where Box Office Revenue is NaN \n",
    "df_IMDb = df_IMDb.dropna(subset=['Box Office Revenue'])\n",
    "\n",
    "# Check the cleaned data\n",
    "print(df_IMDb[['Title', 'Box Office Revenue']].head())\n"
   ]
  },
  {
   "cell_type": "code",
   "execution_count": 39,
   "id": "d5e74c28-9276-4dcf-912e-2dbf617c3272",
   "metadata": {},
   "outputs": [
    {
     "name": "stdout",
     "output_type": "stream",
     "text": [
      "              Title\n",
      "2   The Dark Knight\n",
      "13        Inception\n",
      "18     Interstellar\n",
      "33         Parasite\n",
      "37     The Departed\n"
     ]
    },
    {
     "name": "stderr",
     "output_type": "stream",
     "text": [
      "C:\\Users\\User\\AppData\\Local\\Temp\\ipykernel_21768\\1312525901.py:4: SettingWithCopyWarning: \n",
      "A value is trying to be set on a copy of a slice from a DataFrame.\n",
      "Try using .loc[row_indexer,col_indexer] = value instead\n",
      "\n",
      "See the caveats in the documentation: https://pandas.pydata.org/pandas-docs/stable/user_guide/indexing.html#returning-a-view-versus-a-copy\n",
      "  df_IMDb['Title'] = df_IMDb['Title'].apply(lambda x: re.sub(r'^\\d+\\.\\s*', '', str(x)))\n"
     ]
    }
   ],
   "source": [
    "import re\n",
    "\n",
    "# Clean the Title column by removing leading numbers and dots\n",
    "df_IMDb['Title'] = df_IMDb['Title'].apply(lambda x: re.sub(r'^\\d+\\.\\s*', '', str(x)))\n",
    "\n",
    "# Display the cleaned column\n",
    "print(df_IMDb[['Title']].head())\n"
   ]
  },
  {
   "cell_type": "code",
   "execution_count": 41,
   "id": "d8a2f84c-3efc-4706-a6e8-9d8814a9d131",
   "metadata": {},
   "outputs": [
    {
     "data": {
      "text/html": [
       "<div>\n",
       "<style scoped>\n",
       "    .dataframe tbody tr th:only-of-type {\n",
       "        vertical-align: middle;\n",
       "    }\n",
       "\n",
       "    .dataframe tbody tr th {\n",
       "        vertical-align: top;\n",
       "    }\n",
       "\n",
       "    .dataframe thead th {\n",
       "        text-align: right;\n",
       "    }\n",
       "</style>\n",
       "<table border=\"1\" class=\"dataframe\">\n",
       "  <thead>\n",
       "    <tr style=\"text-align: right;\">\n",
       "      <th></th>\n",
       "      <th>Title</th>\n",
       "      <th>Year</th>\n",
       "      <th>Rating</th>\n",
       "      <th>Genre</th>\n",
       "      <th>Director(s)</th>\n",
       "      <th>Box Office Revenue</th>\n",
       "      <th>Lead Actors</th>\n",
       "    </tr>\n",
       "  </thead>\n",
       "  <tbody>\n",
       "    <tr>\n",
       "      <th>2</th>\n",
       "      <td>The Dark Knight</td>\n",
       "      <td>2008</td>\n",
       "      <td>9.0</td>\n",
       "      <td>Action Epic, Epic, Superhero, Tragedy, Action,...</td>\n",
       "      <td>Aaron Eckhart, Michael Caine, The Joker, Jonat...</td>\n",
       "      <td>1009057329</td>\n",
       "      <td>Aaron Eckhart, Christian Bale, Heath Ledger</td>\n",
       "    </tr>\n",
       "    <tr>\n",
       "      <th>13</th>\n",
       "      <td>Inception</td>\n",
       "      <td>2010</td>\n",
       "      <td>8.8</td>\n",
       "      <td>Action Epic, Adventure Epic, Epic, Psychologic...</td>\n",
       "      <td>Cobb, Joseph Gordon-Levitt, Leonardo DiCaprio,...</td>\n",
       "      <td>839030630</td>\n",
       "      <td>Joseph Gordon-Levitt, Leonardo DiCaprio, Ellio...</td>\n",
       "    </tr>\n",
       "    <tr>\n",
       "      <th>18</th>\n",
       "      <td>Interstellar</td>\n",
       "      <td>2014</td>\n",
       "      <td>8.7</td>\n",
       "      <td>Adventure Epic, Epic, Quest, Sci-Fi Epic, Spac...</td>\n",
       "      <td>Jonathan Nolan, Cooper, Matthew McConaughey, K...</td>\n",
       "      <td>758464713</td>\n",
       "      <td>Anne Hathaway, Jessica Chastain, Matthew McCon...</td>\n",
       "    </tr>\n",
       "    <tr>\n",
       "      <th>33</th>\n",
       "      <td>Parasite</td>\n",
       "      <td>2019</td>\n",
       "      <td>8.5</td>\n",
       "      <td>Dark Comedy, Korean Drama, Psychological Thril...</td>\n",
       "      <td>Song Kang-ho, Bong Joon Ho, Han Jin-won, Cho Y...</td>\n",
       "      <td>262608117</td>\n",
       "      <td>Song Kang-ho, Cho Yeo-jeong, Lee Sun-kyun</td>\n",
       "    </tr>\n",
       "    <tr>\n",
       "      <th>37</th>\n",
       "      <td>The Departed</td>\n",
       "      <td>2006</td>\n",
       "      <td>8.5</td>\n",
       "      <td>Cop Drama, Epic, Gangster, Crime, Drama, Thriller</td>\n",
       "      <td>Felix Chong, Matt Damon, Dignam, William Monah...</td>\n",
       "      <td>291481358</td>\n",
       "      <td>Matt Damon, Leonardo DiCaprio, Jack Nicholson</td>\n",
       "    </tr>\n",
       "  </tbody>\n",
       "</table>\n",
       "</div>"
      ],
      "text/plain": [
       "              Title  Year Rating  \\\n",
       "2   The Dark Knight  2008    9.0   \n",
       "13        Inception  2010    8.8   \n",
       "18     Interstellar  2014    8.7   \n",
       "33         Parasite  2019    8.5   \n",
       "37     The Departed  2006    8.5   \n",
       "\n",
       "                                                Genre  \\\n",
       "2   Action Epic, Epic, Superhero, Tragedy, Action,...   \n",
       "13  Action Epic, Adventure Epic, Epic, Psychologic...   \n",
       "18  Adventure Epic, Epic, Quest, Sci-Fi Epic, Spac...   \n",
       "33  Dark Comedy, Korean Drama, Psychological Thril...   \n",
       "37  Cop Drama, Epic, Gangster, Crime, Drama, Thriller   \n",
       "\n",
       "                                          Director(s) Box Office Revenue  \\\n",
       "2   Aaron Eckhart, Michael Caine, The Joker, Jonat...         1009057329   \n",
       "13  Cobb, Joseph Gordon-Levitt, Leonardo DiCaprio,...          839030630   \n",
       "18  Jonathan Nolan, Cooper, Matthew McConaughey, K...          758464713   \n",
       "33  Song Kang-ho, Bong Joon Ho, Han Jin-won, Cho Y...          262608117   \n",
       "37  Felix Chong, Matt Damon, Dignam, William Monah...          291481358   \n",
       "\n",
       "                                          Lead Actors  \n",
       "2         Aaron Eckhart, Christian Bale, Heath Ledger  \n",
       "13  Joseph Gordon-Levitt, Leonardo DiCaprio, Ellio...  \n",
       "18  Anne Hathaway, Jessica Chastain, Matthew McCon...  \n",
       "33          Song Kang-ho, Cho Yeo-jeong, Lee Sun-kyun  \n",
       "37      Matt Damon, Leonardo DiCaprio, Jack Nicholson  "
      ]
     },
     "execution_count": 41,
     "metadata": {},
     "output_type": "execute_result"
    }
   ],
   "source": [
    "#Check the dataset after cleaning\n",
    "df_IMDb.head()"
   ]
  },
  {
   "cell_type": "code",
   "execution_count": 43,
   "id": "f7e0a930-83ab-4787-af6f-421594ab9713",
   "metadata": {},
   "outputs": [
    {
     "name": "stdout",
     "output_type": "stream",
     "text": [
      "Null values in each column:\n",
      " Title                 0\n",
      "Year                  0\n",
      "Rating                0\n",
      "Genre                 0\n",
      "Director(s)           0\n",
      "Box Office Revenue    0\n",
      "Lead Actors           0\n",
      "dtype: int64\n"
     ]
    }
   ],
   "source": [
    "# Check for null values in each column\n",
    "df_IMDb.isnull().sum()\n",
    "print(\"Null values in each column:\\n\", df_IMDb.isnull().sum())"
   ]
  },
  {
   "cell_type": "code",
   "execution_count": 45,
   "id": "8b337e1a-443b-483a-a0f3-19cc257cc578",
   "metadata": {},
   "outputs": [
    {
     "name": "stdout",
     "output_type": "stream",
     "text": [
      "Number of duplicate rows: 0\n"
     ]
    }
   ],
   "source": [
    "# Check for duplicated rows\n",
    "df_IMDb.duplicated().sum()\n",
    "print(\"Number of duplicate rows:\", df_IMDb.duplicated().sum())"
   ]
  },
  {
   "cell_type": "code",
   "execution_count": 47,
   "id": "a70c9fbe-3eb2-475b-979c-f16641bb1ed9",
   "metadata": {},
   "outputs": [
    {
     "name": "stderr",
     "output_type": "stream",
     "text": [
      "C:\\Users\\User\\AppData\\Local\\Temp\\ipykernel_21768\\3931081150.py:2: SettingWithCopyWarning: \n",
      "A value is trying to be set on a copy of a slice from a DataFrame.\n",
      "Try using .loc[row_indexer,col_indexer] = value instead\n",
      "\n",
      "See the caveats in the documentation: https://pandas.pydata.org/pandas-docs/stable/user_guide/indexing.html#returning-a-view-versus-a-copy\n",
      "  df_IMDb[\"Year\"] = df_IMDb[\"Year\"].astype(str)\n",
      "C:\\Users\\User\\AppData\\Local\\Temp\\ipykernel_21768\\3931081150.py:5: SettingWithCopyWarning: \n",
      "A value is trying to be set on a copy of a slice from a DataFrame.\n",
      "Try using .loc[row_indexer,col_indexer] = value instead\n",
      "\n",
      "See the caveats in the documentation: https://pandas.pydata.org/pandas-docs/stable/user_guide/indexing.html#returning-a-view-versus-a-copy\n",
      "  df_IMDb[\"Rating\"] = pd.to_numeric(df_IMDb[\"Rating\"], errors=\"coerce\")\n",
      "C:\\Users\\User\\AppData\\Local\\Temp\\ipykernel_21768\\3931081150.py:8: SettingWithCopyWarning: \n",
      "A value is trying to be set on a copy of a slice from a DataFrame.\n",
      "Try using .loc[row_indexer,col_indexer] = value instead\n",
      "\n",
      "See the caveats in the documentation: https://pandas.pydata.org/pandas-docs/stable/user_guide/indexing.html#returning-a-view-versus-a-copy\n",
      "  df_IMDb[\"Box Office Revenue\"] = pd.to_numeric(df_IMDb[\"Box Office Revenue\"], errors=\"coerce\")\n",
      "C:\\Users\\User\\AppData\\Local\\Temp\\ipykernel_21768\\3931081150.py:12: SettingWithCopyWarning: \n",
      "A value is trying to be set on a copy of a slice from a DataFrame.\n",
      "Try using .loc[row_indexer,col_indexer] = value instead\n",
      "\n",
      "See the caveats in the documentation: https://pandas.pydata.org/pandas-docs/stable/user_guide/indexing.html#returning-a-view-versus-a-copy\n",
      "  df_IMDb[categorical_columns] = df_IMDb[categorical_columns].astype(str)\n"
     ]
    },
    {
     "data": {
      "text/plain": [
       "Title                  object\n",
       "Year                   object\n",
       "Rating                float64\n",
       "Genre                  object\n",
       "Director(s)            object\n",
       "Box Office Revenue    float64\n",
       "Lead Actors            object\n",
       "dtype: object"
      ]
     },
     "execution_count": 47,
     "metadata": {},
     "output_type": "execute_result"
    }
   ],
   "source": [
    "\n",
    "# Convert Year column to integer\n",
    "df_IMDb[\"Year\"] = df_IMDb[\"Year\"].astype(str)\n",
    "\n",
    "# Convert Rating column to float\n",
    "df_IMDb[\"Rating\"] = pd.to_numeric(df_IMDb[\"Rating\"], errors=\"coerce\")\n",
    "\n",
    "# Convert Box Office Revenue to numeric after cleaning \n",
    "df_IMDb[\"Box Office Revenue\"] = pd.to_numeric(df_IMDb[\"Box Office Revenue\"], errors=\"coerce\")\n",
    "\n",
    "# Convert categorical columns to string type\n",
    "categorical_columns = [\"Title\", \"Genre\", \"Director(s)\", \"Lead Actors\"]\n",
    "df_IMDb[categorical_columns] = df_IMDb[categorical_columns].astype(str)\n",
    "\n",
    "df_IMDb.dtypes\n"
   ]
  },
  {
   "cell_type": "markdown",
   "id": "f431f9e1-0385-47b4-808f-de33245af048",
   "metadata": {},
   "source": [
    "# 02. Statistical Analysis"
   ]
  },
  {
   "cell_type": "code",
   "execution_count": 50,
   "id": "1d78f345-dc25-4bef-8885-c287cecb7891",
   "metadata": {},
   "outputs": [
    {
     "name": "stdout",
     "output_type": "stream",
     "text": [
      "Summary Statistics for IMDb Dataset:\n",
      "\n",
      "          Rating  Box Office Revenue\n",
      "count  86.000000        8.300000e+01\n",
      "mean    8.274419        3.933943e+08\n",
      "std     0.192315        5.079335e+08\n",
      "min     8.000000        6.735800e+04\n",
      "25%     8.100000        4.855526e+07\n",
      "50%     8.200000        2.218022e+08\n",
      "75%     8.400000        5.111418e+08\n",
      "max     9.000000        2.799439e+09\n"
     ]
    }
   ],
   "source": [
    "# Display basic statistics for numerical columns Rating and Box Office Revenue\n",
    "print(\"Summary Statistics for IMDb Dataset:\\n\")\n",
    "print(df_IMDb.describe())"
   ]
  },
  {
   "cell_type": "code",
   "execution_count": 52,
   "id": "b6654e02-624b-46ef-9b32-2cc68262fb60",
   "metadata": {},
   "outputs": [
    {
     "name": "stdout",
     "output_type": "stream",
     "text": [
      "\n",
      "Categorical Value Counts:\n",
      "\n",
      "\n",
      "Genre Distribution:\n",
      "Genre\n",
      "Drama                                                                                                                     2\n",
      "Drama, Family                                                                                                             2\n",
      "Boxing, Action, Drama, Sport                                                                                              1\n",
      "Docudrama, Epic, Period Drama, War Epic, Biography, Drama, History, War                                                   1\n",
      "Caper, Quirky Comedy, Adventure, Comedy, Crime                                                                            1\n",
      "Costume Drama, Docudrama, Epic, Period Drama, Tragedy, Biography, Drama, History                                          1\n",
      "Action Epic, Adventure Epic, Car Action, Desert Adventure, Dystopian Sci-Fi, Epic, Quest, Road Trip, Action, Adventure    1\n",
      "Superhero, Supernatural Fantasy, Urban Adventure, Action, Adventure, Fantasy, Sci-Fi                                      1\n",
      "Boxing, Tragedy, Drama, Sport                                                                                             1\n",
      "Dark Fantasy, Fantasy Epic, Teen Adventure, Teen Fantasy, Adventure, Family, Fantasy, Mystery                             1\n",
      "Name: count, dtype: int64\n",
      "\n",
      "Director(s) Distribution:\n",
      "Director(s)\n",
      "Aaron Eckhart, Michael Caine, The Joker, Jonathan Nolan, The Chechen, David S. Goyer, Christopher Nolan, Salvatore Maroni, The Pipes and Drums of the Chicago Police Department, Jack Nicholson, Christian Bale, Heath Ledger    1\n",
      "Anthony Tambakis, Matt Berninger, Gavin O'Connor, Referee Josh Rosenthal, Aaron Dessner, Brendan Conlon, Nick Nolte, Cliff Dorfman, Joel Edgerton, Tom Hardy, The National, Tom Conlon                                           1\n",
      "Howard Doane, Robert Schenkkan, Mel Gibson, Sam Worthington, Fanny Crosby, Luke Bracey, Desmond T. Doss, Desmond Doss, Andrew Garfield, Andrew Knight                                                                            1\n",
      "Hugo Guinness, Mathieu Amalric, M. Gustave, F. Murray Abraham, Tony Revolori, Ralph Fiennes, Wes Anderson, Harvey Keitel, Stefan Zweig                                                                                           1\n",
      "Michael Fassbender, Steve McQueen, Solomon Northup, Nicholas Britell, Roosevelt Credit, Bass, Jack Williamson, David Hughey, Edwin Epps, Chiwetel Ejiofor, John Ridley, Michael Kenneth Williams                                 1\n",
      "Iota, Nux, Nicholas Hoult, Eleni Karaindrou, George Miller, Charlize Theron, Tom Hardy, Nick Lathouris, Brendan McCarthy                                                                                                         1\n",
      "Benedict Cumberbatch, Peter Parker, Talking Heads, Chris McKenna, David Byrne, Erik Sommers, Tom Holland, Matt Murdock, Stan Lee, Zendaya, Jon Watts, Brian Eno                                                                  1\n",
      "F.X. Toole, Frankie Dunn, Eddie Scrap-Iron Dupris, Clint Eastwood, Paul Haggis, Morgan Freeman, Hilary Swank, Lucia Rijker                                                                                                       1\n",
      "Nick Schenk, Dave Johannson, Michael Stevens, Kyle Eastwood, Walt Kowalski, Clint Eastwood, Christopher Carley, Jamie Cullum, Bee Vang, Duke                                                                                     1\n",
      "David Yates, J.K. Rowling, Daniel Radcliffe, Molly Weasley, Steve Kloves, Rupert Grint, Ralph Fiennes, Emma Watson                                                                                                               1\n",
      "Name: count, dtype: int64\n",
      "\n",
      "Lead Actors Distribution:\n",
      "Lead Actors\n",
      "Aaron Eckhart, Christian Bale, Heath Ledger                       1\n",
      "Tom Hardy, Joel Edgerton, Nick Nolte                              1\n",
      "Sam Worthington, Luke Bracey, Andrew Garfield                     1\n",
      "Mathieu Amalric, Ralph Fiennes, F. Murray Abraham                 1\n",
      "Michael Fassbender, Chiwetel Ejiofor, Michael Kenneth Williams    1\n",
      "Charlize Theron, Tom Hardy, Nicholas Hoult                        1\n",
      "Benedict Cumberbatch, Zendaya, Tom Holland                        1\n",
      "Clint Eastwood, Hilary Swank, Morgan Freeman                      1\n",
      "Bee Vang, Clint Eastwood, Christopher Carley                      1\n",
      "Daniel Radcliffe, Emma Watson, Rupert Grint                       1\n",
      "Name: count, dtype: int64\n"
     ]
    }
   ],
   "source": [
    "# Check the distribution of categorical variables\n",
    "print(\"\\nCategorical Value Counts:\\n\")\n",
    "for col in [\"Genre\", \"Director(s)\", \"Lead Actors\"]:\n",
    "    print(f\"\\n{col} Distribution:\")\n",
    "    print(df_IMDb[col].value_counts().head(10))  # Show top 10 most frequent values"
   ]
  },
  {
   "cell_type": "code",
   "execution_count": null,
   "id": "a6bee97c-9619-4055-bfda-a62ddc40916a",
   "metadata": {},
   "outputs": [],
   "source": []
  },
  {
   "cell_type": "code",
   "execution_count": null,
   "id": "aaaf199a-922c-491a-b82e-5337c3adfe69",
   "metadata": {},
   "outputs": [],
   "source": []
  },
  {
   "cell_type": "code",
   "execution_count": null,
   "id": "1c54fc6f-51e7-4a8d-af5b-77a25b233cba",
   "metadata": {},
   "outputs": [],
   "source": []
  },
  {
   "cell_type": "code",
   "execution_count": null,
   "id": "d1ff6fd9-5354-438c-8628-a465e529abac",
   "metadata": {},
   "outputs": [],
   "source": []
  }
 ],
 "metadata": {
  "kernelspec": {
   "display_name": "Python 3 (ipykernel)",
   "language": "python",
   "name": "python3"
  },
  "language_info": {
   "codemirror_mode": {
    "name": "ipython",
    "version": 3
   },
   "file_extension": ".py",
   "mimetype": "text/x-python",
   "name": "python",
   "nbconvert_exporter": "python",
   "pygments_lexer": "ipython3",
   "version": "3.12.7"
  }
 },
 "nbformat": 4,
 "nbformat_minor": 5
}
