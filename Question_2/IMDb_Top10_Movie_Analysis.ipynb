{
 "cells": [
  {
   "cell_type": "code",
   "execution_count": 1,
   "id": "be0ae95b-5da0-4fb5-a327-b7c1026eb85f",
   "metadata": {},
   "outputs": [],
   "source": [
    "#import neccessary libraries\n",
    "import pandas as pd\n",
    "import numpy as np"
   ]
  },
  {
   "cell_type": "code",
   "execution_count": 5,
   "id": "6a3ac325-9a01-4253-be63-9bc9dfae438e",
   "metadata": {},
   "outputs": [
    {
     "data": {
      "text/html": [
       "<div>\n",
       "<style scoped>\n",
       "    .dataframe tbody tr th:only-of-type {\n",
       "        vertical-align: middle;\n",
       "    }\n",
       "\n",
       "    .dataframe tbody tr th {\n",
       "        vertical-align: top;\n",
       "    }\n",
       "\n",
       "    .dataframe thead th {\n",
       "        text-align: right;\n",
       "    }\n",
       "</style>\n",
       "<table border=\"1\" class=\"dataframe\">\n",
       "  <thead>\n",
       "    <tr style=\"text-align: right;\">\n",
       "      <th></th>\n",
       "      <th>Title</th>\n",
       "      <th>Year</th>\n",
       "      <th>Rating</th>\n",
       "      <th>Genre</th>\n",
       "      <th>Director(s)</th>\n",
       "      <th>Box Office Revenue</th>\n",
       "      <th>Lead Actors</th>\n",
       "    </tr>\n",
       "  </thead>\n",
       "  <tbody>\n",
       "    <tr>\n",
       "      <th>0</th>\n",
       "      <td>1. The Shawshank Redemption</td>\n",
       "      <td>1994</td>\n",
       "      <td>9.3 (3M)</td>\n",
       "      <td>Epic, Period Drama, Prison Drama, Drama</td>\n",
       "      <td>The Ink Spots, Jack Lawrence, Stephen King, Ti...</td>\n",
       "      <td>Gross worldwide$29,332,133</td>\n",
       "      <td>Bob Gunton, Morgan Freeman, Tim Robbins</td>\n",
       "    </tr>\n",
       "    <tr>\n",
       "      <th>1</th>\n",
       "      <td>2. The Godfather</td>\n",
       "      <td>1972</td>\n",
       "      <td>9.2 (2.1M)</td>\n",
       "      <td>Epic, Gangster, Tragedy, Crime, Drama</td>\n",
       "      <td>Mario Puzo, Marlon Brando, Peter Clemenza, Al ...</td>\n",
       "      <td>Gross worldwide$250,342,198</td>\n",
       "      <td>Al Pacino, Marlon Brando, James Caan</td>\n",
       "    </tr>\n",
       "    <tr>\n",
       "      <th>2</th>\n",
       "      <td>3. The Dark Knight</td>\n",
       "      <td>2008</td>\n",
       "      <td>9.0 (3M)</td>\n",
       "      <td>Action Epic, Epic, Superhero, Tragedy, Action,...</td>\n",
       "      <td>Aaron Eckhart, Michael Caine, The Joker, Jonat...</td>\n",
       "      <td>Gross worldwide$1,009,057,329</td>\n",
       "      <td>Aaron Eckhart, Christian Bale, Heath Ledger</td>\n",
       "    </tr>\n",
       "    <tr>\n",
       "      <th>3</th>\n",
       "      <td>4. The Godfather Part II</td>\n",
       "      <td>1974</td>\n",
       "      <td>9.0 (1.4M)</td>\n",
       "      <td>Epic, Gangster, Tragedy, Crime, Drama</td>\n",
       "      <td>Mario Puzo, Francesco Pennino, Al Pacino, Robe...</td>\n",
       "      <td>Gross worldwide$47,964,222</td>\n",
       "      <td>Al Pacino, Robert De Niro, Robert Duvall</td>\n",
       "    </tr>\n",
       "    <tr>\n",
       "      <th>4</th>\n",
       "      <td>5. 12 Angry Men</td>\n",
       "      <td>1957</td>\n",
       "      <td>9.0 (917K)</td>\n",
       "      <td>Legal Drama, Psychological Drama, Crime, Drama</td>\n",
       "      <td>Henry Fonda, Jack Warden, Lee J. Cobb, Juror #...</td>\n",
       "      <td>Gross worldwide$2,945</td>\n",
       "      <td>Henry Fonda, Martin Balsam, Lee J. Cobb</td>\n",
       "    </tr>\n",
       "  </tbody>\n",
       "</table>\n",
       "</div>"
      ],
      "text/plain": [
       "                         Title  Year      Rating  \\\n",
       "0  1. The Shawshank Redemption  1994    9.3 (3M)   \n",
       "1             2. The Godfather  1972  9.2 (2.1M)   \n",
       "2           3. The Dark Knight  2008    9.0 (3M)   \n",
       "3     4. The Godfather Part II  1974  9.0 (1.4M)   \n",
       "4              5. 12 Angry Men  1957  9.0 (917K)   \n",
       "\n",
       "                                               Genre  \\\n",
       "0            Epic, Period Drama, Prison Drama, Drama   \n",
       "1              Epic, Gangster, Tragedy, Crime, Drama   \n",
       "2  Action Epic, Epic, Superhero, Tragedy, Action,...   \n",
       "3              Epic, Gangster, Tragedy, Crime, Drama   \n",
       "4     Legal Drama, Psychological Drama, Crime, Drama   \n",
       "\n",
       "                                         Director(s)  \\\n",
       "0  The Ink Spots, Jack Lawrence, Stephen King, Ti...   \n",
       "1  Mario Puzo, Marlon Brando, Peter Clemenza, Al ...   \n",
       "2  Aaron Eckhart, Michael Caine, The Joker, Jonat...   \n",
       "3  Mario Puzo, Francesco Pennino, Al Pacino, Robe...   \n",
       "4  Henry Fonda, Jack Warden, Lee J. Cobb, Juror #...   \n",
       "\n",
       "              Box Office Revenue                                  Lead Actors  \n",
       "0     Gross worldwide$29,332,133      Bob Gunton, Morgan Freeman, Tim Robbins  \n",
       "1    Gross worldwide$250,342,198         Al Pacino, Marlon Brando, James Caan  \n",
       "2  Gross worldwide$1,009,057,329  Aaron Eckhart, Christian Bale, Heath Ledger  \n",
       "3     Gross worldwide$47,964,222     Al Pacino, Robert De Niro, Robert Duvall  \n",
       "4          Gross worldwide$2,945      Henry Fonda, Martin Balsam, Lee J. Cobb  "
      ]
     },
     "execution_count": 5,
     "metadata": {},
     "output_type": "execute_result"
    }
   ],
   "source": [
    "#Load the dataset\n",
    "df = pd.read_csv(\"IMDb_Top10_Movies.csv\")\n",
    "df.head()"
   ]
  },
  {
   "cell_type": "code",
   "execution_count": 11,
   "id": "72303197-23b2-4736-9f74-d6ff0c1bb18c",
   "metadata": {},
   "outputs": [
    {
     "data": {
      "text/plain": [
       "(250, 7)"
      ]
     },
     "execution_count": 11,
     "metadata": {},
     "output_type": "execute_result"
    }
   ],
   "source": [
    "#Check no.of rows and colunms\n",
    "df.shape"
   ]
  },
  {
   "cell_type": "code",
   "execution_count": 19,
   "id": "1b0db5f8-9e39-4342-b072-2028235d62e8",
   "metadata": {},
   "outputs": [
    {
     "data": {
      "text/html": [
       "<div>\n",
       "<style scoped>\n",
       "    .dataframe tbody tr th:only-of-type {\n",
       "        vertical-align: middle;\n",
       "    }\n",
       "\n",
       "    .dataframe tbody tr th {\n",
       "        vertical-align: top;\n",
       "    }\n",
       "\n",
       "    .dataframe thead th {\n",
       "        text-align: right;\n",
       "    }\n",
       "</style>\n",
       "<table border=\"1\" class=\"dataframe\">\n",
       "  <thead>\n",
       "    <tr style=\"text-align: right;\">\n",
       "      <th></th>\n",
       "      <th>Title</th>\n",
       "      <th>Year</th>\n",
       "      <th>Rating</th>\n",
       "      <th>Genre</th>\n",
       "      <th>Director(s)</th>\n",
       "      <th>Box Office Revenue</th>\n",
       "      <th>Lead Actors</th>\n",
       "    </tr>\n",
       "  </thead>\n",
       "  <tbody>\n",
       "    <tr>\n",
       "      <th>2</th>\n",
       "      <td>3. The Dark Knight</td>\n",
       "      <td>2008</td>\n",
       "      <td>9.0 (3M)</td>\n",
       "      <td>Action Epic, Epic, Superhero, Tragedy, Action,...</td>\n",
       "      <td>Aaron Eckhart, Michael Caine, The Joker, Jonat...</td>\n",
       "      <td>Gross worldwide$1,009,057,329</td>\n",
       "      <td>Aaron Eckhart, Christian Bale, Heath Ledger</td>\n",
       "    </tr>\n",
       "    <tr>\n",
       "      <th>13</th>\n",
       "      <td>14. Inception</td>\n",
       "      <td>2010</td>\n",
       "      <td>8.8 (2.7M)</td>\n",
       "      <td>Action Epic, Adventure Epic, Epic, Psychologic...</td>\n",
       "      <td>Cobb, Joseph Gordon-Levitt, Leonardo DiCaprio,...</td>\n",
       "      <td>Gross worldwide$839,030,630</td>\n",
       "      <td>Joseph Gordon-Levitt, Leonardo DiCaprio, Ellio...</td>\n",
       "    </tr>\n",
       "    <tr>\n",
       "      <th>18</th>\n",
       "      <td>19. Interstellar</td>\n",
       "      <td>2014</td>\n",
       "      <td>8.7 (2.3M)</td>\n",
       "      <td>Adventure Epic, Epic, Quest, Sci-Fi Epic, Spac...</td>\n",
       "      <td>Jonathan Nolan, Cooper, Matthew McConaughey, K...</td>\n",
       "      <td>Gross worldwide$758,464,713</td>\n",
       "      <td>Anne Hathaway, Jessica Chastain, Matthew McCon...</td>\n",
       "    </tr>\n",
       "    <tr>\n",
       "      <th>33</th>\n",
       "      <td>34. Parasite</td>\n",
       "      <td>2019</td>\n",
       "      <td>8.5 (1M)</td>\n",
       "      <td>Dark Comedy, Korean Drama, Psychological Thril...</td>\n",
       "      <td>Song Kang-ho, Bong Joon Ho, Han Jin-won, Cho Y...</td>\n",
       "      <td>Gross worldwide$262,608,117</td>\n",
       "      <td>Song Kang-ho, Cho Yeo-jeong, Lee Sun-kyun</td>\n",
       "    </tr>\n",
       "    <tr>\n",
       "      <th>37</th>\n",
       "      <td>38. The Departed</td>\n",
       "      <td>2006</td>\n",
       "      <td>8.5 (1.5M)</td>\n",
       "      <td>Cop Drama, Epic, Gangster, Crime, Drama, Thriller</td>\n",
       "      <td>Felix Chong, Matt Damon, Dignam, William Monah...</td>\n",
       "      <td>Gross worldwide$291,481,358</td>\n",
       "      <td>Matt Damon, Leonardo DiCaprio, Jack Nicholson</td>\n",
       "    </tr>\n",
       "  </tbody>\n",
       "</table>\n",
       "</div>"
      ],
      "text/plain": [
       "                 Title  Year      Rating  \\\n",
       "2   3. The Dark Knight  2008    9.0 (3M)   \n",
       "13       14. Inception  2010  8.8 (2.7M)   \n",
       "18    19. Interstellar  2014  8.7 (2.3M)   \n",
       "33        34. Parasite  2019    8.5 (1M)   \n",
       "37    38. The Departed  2006  8.5 (1.5M)   \n",
       "\n",
       "                                                Genre  \\\n",
       "2   Action Epic, Epic, Superhero, Tragedy, Action,...   \n",
       "13  Action Epic, Adventure Epic, Epic, Psychologic...   \n",
       "18  Adventure Epic, Epic, Quest, Sci-Fi Epic, Spac...   \n",
       "33  Dark Comedy, Korean Drama, Psychological Thril...   \n",
       "37  Cop Drama, Epic, Gangster, Crime, Drama, Thriller   \n",
       "\n",
       "                                          Director(s)  \\\n",
       "2   Aaron Eckhart, Michael Caine, The Joker, Jonat...   \n",
       "13  Cobb, Joseph Gordon-Levitt, Leonardo DiCaprio,...   \n",
       "18  Jonathan Nolan, Cooper, Matthew McConaughey, K...   \n",
       "33  Song Kang-ho, Bong Joon Ho, Han Jin-won, Cho Y...   \n",
       "37  Felix Chong, Matt Damon, Dignam, William Monah...   \n",
       "\n",
       "               Box Office Revenue  \\\n",
       "2   Gross worldwide$1,009,057,329   \n",
       "13    Gross worldwide$839,030,630   \n",
       "18    Gross worldwide$758,464,713   \n",
       "33    Gross worldwide$262,608,117   \n",
       "37    Gross worldwide$291,481,358   \n",
       "\n",
       "                                          Lead Actors  \n",
       "2         Aaron Eckhart, Christian Bale, Heath Ledger  \n",
       "13  Joseph Gordon-Levitt, Leonardo DiCaprio, Ellio...  \n",
       "18  Anne Hathaway, Jessica Chastain, Matthew McCon...  \n",
       "33          Song Kang-ho, Cho Yeo-jeong, Lee Sun-kyun  \n",
       "37      Matt Damon, Leonardo DiCaprio, Jack Nicholson  "
      ]
     },
     "execution_count": 19,
     "metadata": {},
     "output_type": "execute_result"
    }
   ],
   "source": [
    "from datetime import datetime\n",
    "\n",
    "# Get the current year\n",
    "current_year = datetime.now().year\n",
    "\n",
    "# Calculate the starting year for the past two decades\n",
    "start_year = current_year - 20\n",
    "\n",
    "# Filter movies released in the last two decades\n",
    "df_IMDb = df[df['Year'] >= start_year]\n",
    "\n",
    "df_IMDb.head()"
   ]
  },
  {
   "cell_type": "code",
   "execution_count": 21,
   "id": "1fe7c3e1-e0db-49da-a3f5-8258a88b2e0b",
   "metadata": {},
   "outputs": [
    {
     "data": {
      "text/plain": [
       "(79, 7)"
      ]
     },
     "execution_count": 21,
     "metadata": {},
     "output_type": "execute_result"
    }
   ],
   "source": [
    "#Check no.of rows and colunms\n",
    "df_IMDb.shape"
   ]
  },
  {
   "cell_type": "code",
   "execution_count": 23,
   "id": "e18945d9-ef74-4041-91c2-5b85e0f139fe",
   "metadata": {},
   "outputs": [
    {
     "data": {
      "text/plain": [
       "Title                 object\n",
       "Year                   int64\n",
       "Rating                object\n",
       "Genre                 object\n",
       "Director(s)           object\n",
       "Box Office Revenue    object\n",
       "Lead Actors           object\n",
       "dtype: object"
      ]
     },
     "execution_count": 23,
     "metadata": {},
     "output_type": "execute_result"
    }
   ],
   "source": [
    "#Check the data types\n",
    "df_IMDb.dtypes"
   ]
  },
  {
   "cell_type": "code",
   "execution_count": 31,
   "id": "3be654e1-3022-4a1e-b9ff-5300596904bb",
   "metadata": {},
   "outputs": [
    {
     "name": "stderr",
     "output_type": "stream",
     "text": [
      "C:\\Users\\User\\AppData\\Local\\Temp\\ipykernel_26340\\986091353.py:4: SettingWithCopyWarning: \n",
      "A value is trying to be set on a copy of a slice from a DataFrame.\n",
      "Try using .loc[row_indexer,col_indexer] = value instead\n",
      "\n",
      "See the caveats in the documentation: https://pandas.pydata.org/pandas-docs/stable/user_guide/indexing.html#returning-a-view-versus-a-copy\n",
      "  df_IMDb['Rating'] = df_IMDb['Rating'].apply(lambda x: re.sub(r'\\s?\\(.*\\)', '', str(x)))\n"
     ]
    },
    {
     "data": {
      "text/plain": [
       "2     9.0\n",
       "13    8.8\n",
       "18    8.7\n",
       "33    8.5\n",
       "37    8.5\n",
       "Name: Rating, dtype: object"
      ]
     },
     "execution_count": 31,
     "metadata": {},
     "output_type": "execute_result"
    }
   ],
   "source": [
    "import re\n",
    "\n",
    "# Clean the Rating column to extract only the numeric value before parentheses\n",
    "df_IMDb['Rating'] = df_IMDb['Rating'].apply(lambda x: re.sub(r'\\s?\\(.*\\)', '', str(x)))\n",
    "\n",
    "# Check the cleaned data\n",
    "df_IMDb['Rating'].head()\n"
   ]
  },
  {
   "cell_type": "code",
   "execution_count": null,
   "id": "c7760f7f-2576-4682-83b3-d80c53a518ea",
   "metadata": {},
   "outputs": [],
   "source": []
  }
 ],
 "metadata": {
  "kernelspec": {
   "display_name": "Python 3 (ipykernel)",
   "language": "python",
   "name": "python3"
  },
  "language_info": {
   "codemirror_mode": {
    "name": "ipython",
    "version": 3
   },
   "file_extension": ".py",
   "mimetype": "text/x-python",
   "name": "python",
   "nbconvert_exporter": "python",
   "pygments_lexer": "ipython3",
   "version": "3.12.7"
  }
 },
 "nbformat": 4,
 "nbformat_minor": 5
}
